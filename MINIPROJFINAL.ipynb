{
 "metadata": {
  "language_info": {
   "codemirror_mode": {
    "name": "ipython",
    "version": 3
   },
   "file_extension": ".py",
   "mimetype": "text/x-python",
   "name": "python",
   "nbconvert_exporter": "python",
   "pygments_lexer": "ipython3",
   "version": "3.8.8"
  },
  "orig_nbformat": 2,
  "kernelspec": {
   "name": "python388jvsc74a57bd0fef2067f053c4708c5bc60d5d34b46901db0e15fa69c1e59d56aad3eefe4b38d",
   "display_name": "Python 3.8.8 64-bit"
  },
  "metadata": {
   "interpreter": {
    "hash": "fef2067f053c4708c5bc60d5d34b46901db0e15fa69c1e59d56aad3eefe4b38d"
   }
  }
 },
 "nbformat": 4,
 "nbformat_minor": 2,
 "cells": [
  {
   "source": [
    "Universal Imports"
   ],
   "cell_type": "markdown",
   "metadata": {}
  },
  {
   "cell_type": "code",
   "execution_count": null,
   "metadata": {},
   "outputs": [],
   "source": [
    "import pandas as pd\n",
    "import numpy as np \n",
    "import warnings\n",
    "from statsmodels.tools.sm_exceptions import ConvergenceWarning\n",
    "from statsmodels.tools.sm_exceptions import ValueWarning\n",
    "warnings.simplefilter('ignore', ConvergenceWarning)\n",
    "warnings.simplefilter('ignore', ValueWarning)\n",
    "import matplotlib.pyplot as plt\n",
    "plt.style.use('fivethirtyeight')\n",
    "import seaborn as sns\n",
    "from datetime import date, timedelta\n",
    "from pandas.plotting import scatter_matrix\n",
    "from sklearn.model_selection import train_test_split\n",
    "from sklearn.impute import SimpleImputer\n",
    "from sklearn.pipeline import Pipeline\n",
    "from sklearn.preprocessing import StandardScaler\n",
    "from sklearn.compose import ColumnTransformer\n",
    "from sklearn.linear_model import LinearRegression\n",
    "from sklearn.metrics import mean_squared_error\n",
    "from sklearn.ensemble import RandomForestRegressor\n",
    "from sklearn.model_selection import cross_val_score\n",
    "from pandas.plotting import autocorrelation_plot\n",
    "from statsmodels.tsa.arima.model import ARIMA\n",
    "import statsmodels.api as sm\n",
    "from sklearn.model_selection import train_test_split\n",
    "from sklearn.metrics import mean_squared_error\n",
    "from pmdarima import auto_arima\n",
    "from yellowbrick.regressor import prediction_error\n",
    "from yellowbrick.regressor import residuals_plot"
   ]
  },
  {
   "cell_type": "code",
   "execution_count": null,
   "metadata": {},
   "outputs": [],
   "source": [
    "countries = ['India', 'USA', 'United Kingdom', 'Russia', 'Iran']"
   ]
  },
  {
   "source": [
    "# PART 1: COMPARING DIFFERENT MODELS\n"
   ],
   "cell_type": "markdown",
   "metadata": {}
  },
  {
   "source": [
    "Extracting data from Our World in Data and placing it in a dataframe."
   ],
   "cell_type": "markdown",
   "metadata": {}
  },
  {
   "cell_type": "code",
   "execution_count": null,
   "metadata": {},
   "outputs": [],
   "source": [
    "csv_data = 'https://raw.githubusercontent.com/owid/covid-19-data/master/public/data/owid-covid-data.csv'\n",
    "df = pd.read_csv(csv_data, usecols= [\"location\", \"date\", \"new_cases\", \"new_tests\", \"new_deaths\"])\n",
    "df['date'] = pd.to_datetime(df.date)\n",
    "df.dropna(inplace=True)\n",
    "df.head()\n",
    "df.isna()"
   ]
  },
  {
   "source": [
    "Using different countries data"
   ],
   "cell_type": "markdown",
   "metadata": {}
  },
  {
   "cell_type": "code",
   "execution_count": null,
   "metadata": {},
   "outputs": [],
   "source": [
    "data_ind = df[df[\"location\"] == \"India\"] #India\n",
    "data_ind_features = data_ind.drop(['location', 'date', 'new_cases'], axis = 1)\n",
    "data_ind_target = data_ind['new_cases'].copy()\n",
    "\n",
    "data_usa = df[df['location'] == 'United States'] #United States\n",
    "data_usa_features = data_usa.drop(['location', 'date', 'new_cases'], axis = 1)\n",
    "data_usa_target = data_usa['new_cases'].copy()\n",
    "\n",
    "data_uk = df[df['location'] == 'United Kingdom'] #United Kingdom\n",
    "data_uk_features = data_uk.drop(['location', 'date', 'new_cases'], axis = 1)\n",
    "data_uk_target = data_uk['new_cases'].copy()\n",
    "\n",
    "data_russia = df[df['location'] == 'Russia'] #Russia\n",
    "data_russia_features = data_russia.drop(['location', 'date', 'new_cases'], axis = 1)\n",
    "data_russia_target = data_russia['new_cases'].copy()\n",
    "\n",
    "data_iran = df[df['location'] == 'Iran'] #Iran\n",
    "data_iran_features = data_iran.drop(['location', 'date', 'new_cases'], axis = 1)\n",
    "data_iran_target = data_iran['new_cases'].copy()\n",
    "\n"
   ]
  },
  {
   "source": [
    "Feature Scaling"
   ],
   "cell_type": "markdown",
   "metadata": {}
  },
  {
   "cell_type": "code",
   "execution_count": null,
   "metadata": {},
   "outputs": [],
   "source": [
    "scaler = StandardScaler()\n",
    "data_ind_features_sc = scaler.fit_transform(data_ind_features)\n",
    "data_usa_features_sc = scaler.fit_transform(data_usa_features)\n",
    "data_uk_features_sc = scaler.fit_transform(data_uk_features)\n",
    "data_russia_features_sc = scaler.fit_transform(data_russia_features)\n",
    "data_iran_features_sc = scaler.fit_transform(data_iran_features)"
   ]
  },
  {
   "source": [
    "Dividing into training set and test set"
   ],
   "cell_type": "markdown",
   "metadata": {}
  },
  {
   "cell_type": "code",
   "execution_count": null,
   "metadata": {},
   "outputs": [],
   "source": [
    "train_india_x, test_india_x, train_india_y, test_india_y  = train_test_split(data_ind_features_sc, data_ind_target, test_size = 0.2)\n",
    "train_usa_x, test_usa_x , train_usa_y, test_usa_y = train_test_split(data_usa_features_sc, data_usa_target, test_size = 0.2)\n",
    "train_uk_x, test_uk_x, train_uk_y, test_uk_y = train_test_split(data_uk_features_sc, data_uk_target, test_size = 0.2)\n",
    "train_russia_x, test_russia_x, train_russia_y, test_russia_y = train_test_split(data_russia_features_sc, data_russia_target, test_size = 0.2)\n",
    "train_iran_x, test_iran_x, train_iran_y, test_iran_y = train_test_split(data_iran_features_sc, data_iran_target, test_size = 0.2)"
   ]
  },
  {
   "source": [
    "Creating Linear Regression Models for each country:   "
   ],
   "cell_type": "markdown",
   "metadata": {}
  },
  {
   "cell_type": "code",
   "execution_count": null,
   "metadata": {},
   "outputs": [],
   "source": [
    "india_lreg = LinearRegression()\n",
    "usa_lreg = LinearRegression()\n",
    "russia_lreg = LinearRegression()\n",
    "uk_lreg = LinearRegression()\n",
    "iran_lreg = LinearRegression()"
   ]
  },
  {
   "source": [
    "Fitting Models"
   ],
   "cell_type": "markdown",
   "metadata": {}
  },
  {
   "cell_type": "code",
   "execution_count": null,
   "metadata": {},
   "outputs": [],
   "source": [
    "india_lreg.fit(train_india_x, train_india_y)\n",
    "usa_lreg.fit(train_usa_x, train_usa_y)\n",
    "russia_lreg.fit(train_russia_x, train_russia_y)\n",
    "uk_lreg.fit(train_uk_x, train_uk_y)\n",
    "iran_lreg.fit(train_iran_x, train_iran_y)"
   ]
  },
  {
   "source": [
    "Calculating RMSE"
   ],
   "cell_type": "markdown",
   "metadata": {}
  },
  {
   "cell_type": "code",
   "execution_count": null,
   "metadata": {},
   "outputs": [],
   "source": [
    "def calcRMSE(model,x,y):\n",
    "    predictions = model.predict(x)\n",
    "    rmse = np.sqrt(mean_squared_error(y,predictions))\n",
    "    return rmse"
   ]
  },
  {
   "source": [
    "Visualizing"
   ],
   "cell_type": "markdown",
   "metadata": {}
  },
  {
   "cell_type": "code",
   "execution_count": null,
   "metadata": {},
   "outputs": [],
   "source": [
    "rmse_for_lreg =list()\n",
    "\n",
    "india_lreg_rmse = calcRMSE(india_lreg, test_india_x, test_india_y)\n",
    "usa_lreg_rmse = calcRMSE(usa_lreg, test_usa_x, test_usa_y)\n",
    "russia_lreg_rmse = calcRMSE(russia_lreg, test_russia_x, test_russia_y)\n",
    "uk_lreg_rmse = calcRMSE(uk_lreg, test_uk_x, test_uk_y)\n",
    "iran_lreg_rmse = calcRMSE(iran_lreg, test_iran_x, test_iran_y)\n",
    "\n",
    "rmse_for_lreg.extend([india_lreg_rmse, usa_lreg_rmse, uk_lreg_rmse, russia_lreg_rmse, iran_lreg_rmse])\n",
    "\n",
    "print(rmse_for_lreg)"
   ]
  },
  {
   "source": [
    "Creating Random Forest Regressor Models"
   ],
   "cell_type": "markdown",
   "metadata": {}
  },
  {
   "cell_type": "code",
   "execution_count": null,
   "metadata": {},
   "outputs": [],
   "source": [
    "india_rfr = RandomForestRegressor()\n",
    "usa_rfr = RandomForestRegressor()\n",
    "uk_rfr = RandomForestRegressor()\n",
    "russia_rfr = RandomForestRegressor()\n",
    "iran_rfr = RandomForestRegressor()"
   ]
  },
  {
   "source": [
    "Fitting the models"
   ],
   "cell_type": "markdown",
   "metadata": {}
  },
  {
   "cell_type": "code",
   "execution_count": null,
   "metadata": {},
   "outputs": [],
   "source": [
    "india_rfr.fit(train_india_x, train_india_y)\n",
    "usa_rfr.fit(train_usa_x, train_usa_y)\n",
    "uk_rfr.fit(train_uk_x, train_uk_y)\n",
    "russia_rfr.fit(train_russia_x, train_russia_y)\n",
    "iran_rfr.fit(train_iran_x, train_iran_y)"
   ]
  },
  {
   "source": [
    "Calculating RMSE"
   ],
   "cell_type": "markdown",
   "metadata": {}
  },
  {
   "cell_type": "code",
   "execution_count": null,
   "metadata": {},
   "outputs": [],
   "source": [
    "rmse_for_rfr = list()\n",
    "\n",
    "india_rfr_rmse = calcRMSE(india_rfr, test_india_x, test_india_y)\n",
    "usa_rfr_rmse = calcRMSE(usa_rfr, test_usa_x, test_usa_y)\n",
    "uk_rfr_rmse = calcRMSE(uk_rfr, test_uk_x, test_uk_y)\n",
    "russia_rfr_rmse = calcRMSE(russia_rfr, test_russia_x, test_russia_y)\n",
    "iran_rfr_rmse = calcRMSE(iran_rfr, test_iran_x, test_iran_y)\n",
    "\n",
    "rmse_for_rfr.extend([india_rfr_rmse, usa_rfr_rmse, uk_rfr_rmse, russia_rfr_rmse, iran_rfr_rmse])\n",
    "print(rmse_for_rfr)"
   ]
  },
  {
   "source": [
    "Visualizing the 2 algorithms and comparing them."
   ],
   "cell_type": "markdown",
   "metadata": {}
  },
  {
   "source": [
    "Training our model over test set."
   ],
   "cell_type": "markdown",
   "metadata": {}
  },
  {
   "cell_type": "code",
   "execution_count": null,
   "metadata": {},
   "outputs": [],
   "source": [
    "pred_india_lreg = india_lreg.predict(test_india_x)\n",
    "pred_usa_lreg = usa_lreg.predict(test_usa_x)\n",
    "pred_uk_lreg = uk_lreg.predict(test_uk_x)\n",
    "pred_russia_lreg = russia_lreg.predict(test_russia_x)\n",
    "pred_iran_lreg = iran_lreg.predict(test_iran_x)"
   ]
  },
  {
   "source": [
    "Plotting the curves of cases in the selected countries. "
   ],
   "cell_type": "markdown",
   "metadata": {}
  },
  {
   "cell_type": "code",
   "execution_count": null,
   "metadata": {},
   "outputs": [],
   "source": [
    "\n",
    "\n",
    "plt.plot(data_ind['date'],data_ind['new_cases'],color = 'red', linewidth = 3)\n",
    "plt.title('India', size = 10)\n",
    "plt.show()\n",
    "\n",
    "plt.plot(data_usa['date'], data_usa['new_cases'], color = 'blue', linewidth = 3)\n",
    "plt.title('United States of America', size = 10)\n",
    "plt.show()\n",
    "\n",
    "plt.plot(data_uk['date'], data_uk['new_cases'], color = 'g' , linewidth = 3)\n",
    "plt.title('United Kingdom', size = 10)\n",
    "plt.show()\n",
    "\n",
    "plt.plot(data_russia['date'], data_russia['new_cases'], color ='orange', linewidth = 3)\n",
    "plt.title('Russia', size = 10)\n",
    "plt.show()\n",
    "\n",
    "plt.plot(data_iran['date'], data_iran['new_cases'], color = 'cyan', linewidth = 3)\n",
    "plt.title('Iran', size = 10)\n",
    "plt.show()"
   ]
  },
  {
   "source": [
    "Prediction Error Graph"
   ],
   "cell_type": "markdown",
   "metadata": {}
  },
  {
   "cell_type": "code",
   "execution_count": null,
   "metadata": {},
   "outputs": [],
   "source": [
    "#SUBPLOT\n",
    "f = plt.figure(figsize =(10,10))\n",
    "f.suptitle(\"India\")\n",
    "viz_india_lreg = prediction_error(india_lreg, train_india_x, train_india_y, test_india_x, test_india_y, )\n",
    "\n",
    "\n",
    "f1 = plt.figure(figsize =(10,10))\n",
    "f1.suptitle(\"United States of America\")\n",
    "viz_usa_lreg = prediction_error(usa_lreg, train_usa_x, train_usa_y, test_usa_x, test_usa_y)\n",
    "\n",
    "f2 = plt.figure(figsize =(10,10))\n",
    "f2.suptitle(\"United Kingdom\")\n",
    "viz_uk_lreg = prediction_error(uk_lreg, train_uk_x, train_uk_y, test_uk_x, test_uk_y)\n",
    "\n",
    "f3 = plt.figure(figsize =(10,10))\n",
    "f3.suptitle(\"Russia\")\n",
    "viz_russia_lreg = prediction_error(russia_lreg, train_russia_x, train_russia_y, test_russia_x, test_russia_y)\n",
    "\n",
    "f4 = plt.figure(figsize =(10,10))\n",
    "f4.suptitle(\"Iran\")\n",
    "viz_iran_lreg = prediction_error(iran_lreg, train_iran_x, train_iran_y, test_iran_x, test_iran_y)\n",
    "\n"
   ]
  },
  {
   "cell_type": "code",
   "execution_count": null,
   "metadata": {},
   "outputs": [],
   "source": [
    "\n",
    "f_forest = plt.figure(figsize =(10,10))\n",
    "f_forest.suptitle(\"India\")\n",
    "viz_india_rfr = prediction_error(india_rfr, train_india_x, train_india_y, test_india_x, test_india_y)\n",
    "\n",
    "f1_forest = plt.figure(figsize=(10,10))\n",
    "f1_forest.suptitle(\"United States of America\")\n",
    "viz_usa_rfr = prediction_error(usa_rfr, train_usa_x, train_usa_y, test_usa_x, test_usa_y)\n",
    "\n",
    "f2_forest = plt.figure(figsize=(10,10))\n",
    "f2_forest.suptitle(\"United Kingdom\")\n",
    "viz_uk_rfr = prediction_error(uk_rfr, train_uk_x, train_uk_y, test_uk_x, test_uk_y)\n",
    "\n",
    "f3_forest = plt.figure(figsize = (10,10))\n",
    "f3_forest.suptitle(\"Russia\")\n",
    "viz_russia_rfr = prediction_error(russia_rfr, train_russia_x, train_russia_y, test_russia_x, test_russia_y)\n",
    "\n",
    "f4_forest = plt.figure(figsize = (10,10))\n",
    "f4_forest.suptitle(\"Iran\")\n",
    "viz_iran_rfr = prediction_error(iran_rfr, train_iran_x, train_iran_y, test_iran_x, test_iran_y)"
   ]
  },
  {
   "source": [
    "Comparing RMSE of Each Model of the 2 algorithms."
   ],
   "cell_type": "markdown",
   "metadata": {}
  },
  {
   "cell_type": "code",
   "execution_count": null,
   "metadata": {},
   "outputs": [],
   "source": [
    "#ADD YTICK\n",
    "fig = plt.figure()\n",
    "ax = fig.add_axes([0,0,1,1])\n",
    "ax.bar(countries , rmse_for_lreg, color = 'b', width = 0.25, align='edge' )\n",
    "\n",
    "ax.bar(countries , rmse_for_rfr, color = 'g', width = -0.25, align='edge')\n",
    "plt.legend(['Linear Regression','Random Forest Regressor'], prop={'size': 15})\n",
    "plt.xlabel('Countries')\n",
    "plt.ylabel('Root Mean Squared Error')\n",
    "plt.title(\"RMSE Scores for Linear Regression and Random Forest Regressor Models\")\n"
   ]
  },
  {
   "source": [
    "From the 2 algorithms, we see that Random Forest performs better because it has a lower RMSE for all selected countries."
   ],
   "cell_type": "markdown",
   "metadata": {}
  },
  {
   "source": [
    "# Part 2: Forecasting using ARIMA"
   ],
   "cell_type": "markdown",
   "metadata": {}
  },
  {
   "source": [
    "Taking Countries Location Data"
   ],
   "cell_type": "markdown",
   "metadata": {}
  },
  {
   "cell_type": "code",
   "execution_count": null,
   "metadata": {},
   "outputs": [],
   "source": [
    "csv_data = 'https://raw.githubusercontent.com/owid/covid-19-data/master/public/data/owid-covid-data.csv'\n",
    "dataframe = pd.read_csv(csv_data, usecols= [\"location\", \"date\", \"new_cases\"])\n",
    "dataframe['date'] = pd.to_datetime(dataframe.date)\n",
    "dataframe.dropna(inplace=True)\n",
    "dataframe.tail()\n"
   ]
  },
  {
   "source": [
    "Extracting Data of selected countries"
   ],
   "cell_type": "markdown",
   "metadata": {}
  },
  {
   "cell_type": "code",
   "execution_count": null,
   "metadata": {},
   "outputs": [],
   "source": [
    "data_ind_arima = dataframe[dataframe['location'] == 'India']\n",
    "data_usa_arima = dataframe[dataframe['location'] == 'United States']\n",
    "data_uk_arima = dataframe[dataframe['location'] == 'United Kingdom']\n",
    "data_russia_arima = dataframe[dataframe['location'] == 'Russia']\n",
    "data_iran_arima = dataframe[dataframe['location'] == 'Iran']"
   ]
  },
  {
   "source": [
    "Now we'll be getting the p,d,q values for each countries ARIMA Model, using auto_arima from pmdarima."
   ],
   "cell_type": "markdown",
   "metadata": {}
  },
  {
   "source": [
    "1. p,d,q for India - (5,2,5)\n",
    "2. p,d,q for USA - (5,1,4)\n",
    "3. p,d,q for UK -  (5,2,3)\n",
    "4. p,d,q for Russia - (5,2,5)\n",
    "5. p,d,q for Iran - (5,2,5)"
   ],
   "cell_type": "markdown",
   "metadata": {}
  },
  {
   "cell_type": "code",
   "execution_count": null,
   "metadata": {},
   "outputs": [],
   "source": [
    "india_param = (5,2,5)\n",
    "usa_param = (5,1,4)\n",
    "uk_param = (5,2,3)\n",
    "russia_param = (5,2,5)\n",
    "iran_param = (5,2,5)"
   ]
  },
  {
   "cell_type": "code",
   "execution_count": null,
   "metadata": {},
   "outputs": [],
   "source": [
    "def evaluateModel(data, param):\n",
    "    X = data['new_cases'].values\n",
    "    size = int(len(X) * 0.66)\n",
    "    train, test = X[0:size], X[size:len(X)]\n",
    "    history = [x for x in train]\n",
    "    predictions = list()\n",
    "    # walk-forward validation\n",
    "    for t in range(len(test)):\n",
    "        model = ARIMA(history, order=param)\n",
    "        model_fit = model.fit()\n",
    "        output = model_fit.forecast()\n",
    "        yhat = output[0]\n",
    "        predictions.append(yhat)\n",
    "        obs = test[t]\n",
    "        history.append(obs)\n",
    "        print('predicted=%f, expected=%f' % (yhat, obs))\n",
    "    rmse = np.sqrt(mean_squared_error(test, predictions))\n",
    "    return rmse"
   ]
  },
  {
   "source": [
    "Not to display on site just for internal testing."
   ],
   "cell_type": "markdown",
   "metadata": {}
  },
  {
   "cell_type": "code",
   "execution_count": null,
   "metadata": {},
   "outputs": [],
   "source": [
    "india_arima_rmse = evaluateModel(data_ind_arima, india_param) \n",
    "print(india_arima_rmse)"
   ]
  },
  {
   "cell_type": "code",
   "execution_count": null,
   "metadata": {},
   "outputs": [],
   "source": [
    "usa_arima_rmse = evaluateModel(data_usa_arima, usa_param)\n",
    "print(usa_arima_rmse)"
   ]
  },
  {
   "cell_type": "code",
   "execution_count": null,
   "metadata": {},
   "outputs": [],
   "source": [
    "uk_arima_rmse = evaluateModel(data_uk_arima, uk_param)\n",
    "print(uk_arima_rmse)"
   ]
  },
  {
   "cell_type": "code",
   "execution_count": null,
   "metadata": {},
   "outputs": [],
   "source": [
    "russia_arima_rmse = evaluateModel(data_russia_arima, russia_param)\n",
    "print(russia_arima_rmse)"
   ]
  },
  {
   "cell_type": "code",
   "execution_count": null,
   "metadata": {},
   "outputs": [],
   "source": [
    "iran_arima_rmse = evaluateModel(data_iran_arima, iran_param)\n",
    "print(iran_arima_rmse)"
   ]
  },
  {
   "source": [
    "Now comparing the RMSE of ARIMA and Other Models"
   ],
   "cell_type": "markdown",
   "metadata": {}
  },
  {
   "cell_type": "code",
   "execution_count": null,
   "metadata": {},
   "outputs": [],
   "source": [
    "rmse_for_arima = list()\n",
    "rmse_for_arima.extend([india_arima_rmse, usa_arima_rmse, uk_arima_rmse, russia_arima_rmse, iran_arima_rmse])"
   ]
  },
  {
   "source": [
    "fig = plt.figure()\n",
    "ax = fig.add_axes([0,0,1,1])\n",
    "ax.bar(countries , rmse_for_lreg, color = 'b', width = 0.25, align='edge' )\n",
    "\n",
    "ax.bar(countries , rmse_for_rfr, color = 'g', width = -0.25, align='edge')\n",
    "plt.legend(['Linear Regression','Random Forest Regressor'], prop={'size': 15})\n",
    "plt.xlabel('Countries')\n",
    "plt.ylabel('Root Mean Squared Error')\n",
    "plt.title(\"RMSE Scores for Linear Regression and Random Forest Regressor Models\")"
   ],
   "cell_type": "code",
   "metadata": {},
   "execution_count": null,
   "outputs": []
  },
  {
   "cell_type": "code",
   "execution_count": null,
   "metadata": {},
   "outputs": [],
   "source": [
    "fig = plt.figure()\n",
    "ax = fig.add_axes([0,0,1,1])\n",
    "ax.bar(countries , rmse_for_rfr, color = 'b', width = 0.25, align='edge' )\n",
    "\n",
    "ax.bar(countries , rmse_for_arima, color = 'g', width = -0.25, align='edge')\n",
    "plt.legend(['Random Forest Regressor', 'ARIMA Model'], prop={'size': 15})\n",
    "plt.xlabel('Countries')\n",
    "plt.ylabel('Root Mean Squared Error')\n",
    "plt.title(\"RMSE Scores for Random Forest Regressor and ARIMA Models\")"
   ]
  },
  {
   "source": [
    "As you can see, ARIMA provides lowest RMSE value compared to RFR. So we will use ARIMA to forecast 7 days ahead for these countries."
   ],
   "cell_type": "markdown",
   "metadata": {}
  },
  {
   "source": [
    "Creating actual models for forecasting."
   ],
   "cell_type": "markdown",
   "metadata": {}
  },
  {
   "cell_type": "code",
   "execution_count": null,
   "metadata": {},
   "outputs": [],
   "source": [
    "india_arima = ARIMA(data_ind_arima['new_cases'], order = (5,2,5))\n",
    "india_arima_fit = india_arima.fit()"
   ]
  },
  {
   "cell_type": "code",
   "execution_count": null,
   "metadata": {},
   "outputs": [],
   "source": [
    "usa_arima = ARIMA(data_usa_arima['new_cases'], order = (5,1,4))\n",
    "usa_arima_fit = usa_arima.fit()"
   ]
  },
  {
   "cell_type": "code",
   "execution_count": null,
   "metadata": {},
   "outputs": [],
   "source": [
    "uk_arima = ARIMA(data_uk_arima['new_cases'], order = (5,2,3))\n",
    "uk_arima_fit = uk_arima.fit()"
   ]
  },
  {
   "cell_type": "code",
   "execution_count": null,
   "metadata": {},
   "outputs": [],
   "source": [
    "russia_arima = ARIMA(data_russia_arima['new_cases'], order = (5,2,5))\n",
    "russia_arima_fit = russia_arima.fit()"
   ]
  },
  {
   "cell_type": "code",
   "execution_count": null,
   "metadata": {},
   "outputs": [],
   "source": [
    "iran_arima = ARIMA(data_iran_arima['new_cases'], order = (5,2,5))\n",
    "iran_arima_fit = iran_arima.fit()"
   ]
  },
  {
   "source": [
    "Calculating rmse for each country ARIMA"
   ],
   "cell_type": "markdown",
   "metadata": {}
  },
  {
   "cell_type": "code",
   "execution_count": null,
   "metadata": {},
   "outputs": [],
   "source": [
    "india_forecasts = india_arima_fit.forecast(steps = 7)\n",
    "usa_forecasts = usa_arima_fit.forecast(steps = 7)\n",
    "uk_forecasts = uk_arima_fit.forecast(steps = 7)\n",
    "russia_forecasts = russia_arima_fit.forecast(steps = 7)\n",
    "iran_forecasts = iran_arima_fit.forecast(steps = 7)"
   ]
  },
  {
   "source": [
    "Creating a dataframe with the dates and forecasts."
   ],
   "cell_type": "markdown",
   "metadata": {}
  },
  {
   "cell_type": "code",
   "execution_count": null,
   "metadata": {},
   "outputs": [],
   "source": [
    "dates = list()\n",
    "for i in range(1,8):\n",
    "    date = date.today()\n",
    "    increment = timedelta(days = i)\n",
    "    date = date + increment\n",
    "    dates.append(date)\n",
    "print(dates)\n"
   ]
  },
  {
   "cell_type": "code",
   "execution_count": null,
   "metadata": {},
   "outputs": [],
   "source": [
    "forecastdict = {'Date': dates, 'India': india_forecasts}\n",
    "forecastdata = pd.DataFrame(forecastdict, columns = ['Date', 'India'])\n",
    "\n",
    "print(forecastdata)"
   ]
  },
  {
   "cell_type": "code",
   "execution_count": null,
   "metadata": {},
   "outputs": [],
   "source": [
    "plt.plot(dates, india_forecast)\n",
    "plt.show()\n",
    "plt.plot(dates, usa_forecast)\n",
    "plt.show()\n",
    "plt.plot(dates, uk_forecasts)\n",
    "plt.show()\n",
    "plt.plot(dates, russia_forecasts)\n",
    "plt.show()\n",
    "plt.plot(dates, iran_forecasts)\n",
    "plt.show()"
   ]
  },
  {
   "cell_type": "code",
   "execution_count": null,
   "metadata": {},
   "outputs": [],
   "source": []
  }
 ]
}