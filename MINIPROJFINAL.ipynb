{
 "metadata": {
  "language_info": {
   "codemirror_mode": {
    "name": "ipython",
    "version": 3
   },
   "file_extension": ".py",
   "mimetype": "text/x-python",
   "name": "python",
   "nbconvert_exporter": "python",
   "pygments_lexer": "ipython3",
   "version": "3.8.8"
  },
  "orig_nbformat": 2,
  "kernelspec": {
   "name": "python388jvsc74a57bd0fef2067f053c4708c5bc60d5d34b46901db0e15fa69c1e59d56aad3eefe4b38d",
   "display_name": "Python 3.8.8 64-bit"
  },
  "metadata": {
   "interpreter": {
    "hash": "fef2067f053c4708c5bc60d5d34b46901db0e15fa69c1e59d56aad3eefe4b38d"
   }
  }
 },
 "nbformat": 4,
 "nbformat_minor": 2,
 "cells": [
  {
   "cell_type": "code",
   "execution_count": null,
   "metadata": {},
   "outputs": [],
   "source": [
    "import pandas as pd\n",
    "import numpy as np \n",
    "import warnings\n",
    "from statsmodels.tools.sm_exceptions import ConvergenceWarning\n",
    "from statsmodels.tools.sm_exceptions import ValueWarning\n",
    "warnings.simplefilter('ignore', ConvergenceWarning)\n",
    "warnings.simplefilter('ignore', ValueWarning)\n",
    "import matplotlib.pyplot as plt\n",
    "plt.style.use('fivethirtyeight')\n",
    "import seaborn as sns\n",
    "from datetime import date, timedelta\n",
    "from pandas.plotting import scatter_matrix\n",
    "from sklearn.model_selection import train_test_split\n",
    "from sklearn.impute import SimpleImputer\n",
    "from sklearn.pipeline import Pipeline\n",
    "from sklearn.preprocessing import StandardScaler\n",
    "from sklearn.compose import ColumnTransformer\n",
    "from sklearn.linear_model import LinearRegression\n",
    "from sklearn.metrics import mean_squared_error\n",
    "from sklearn.ensemble import RandomForestRegressor\n",
    "from sklearn.model_selection import cross_val_score\n",
    "from pandas.plotting import autocorrelation_plot\n",
    "from statsmodels.tsa.arima.model import ARIMA\n",
    "import statsmodels.api as sm\n",
    "from sklearn.model_selection import train_test_split\n",
    "from sklearn.metrics import mean_squared_error\n",
    "from pmdarima import auto_arima\n",
    "from yellowbrick.regressor import prediction_error\n",
    "from yellowbrick.regressor import residuals_plot"
   ]
  },
  {
   "cell_type": "code",
   "execution_count": null,
   "metadata": {},
   "outputs": [],
   "source": [
    "countries = ['India', 'USA', 'United Kingdom', 'Russia', 'Israel']"
   ]
  },
  {
   "cell_type": "code",
   "execution_count": null,
   "metadata": {},
   "outputs": [],
   "source": [
    "countries1 = ['India', 'USA', 'Russia', 'Israel']"
   ]
  },
  {
   "cell_type": "code",
   "execution_count": null,
   "metadata": {},
   "outputs": [],
   "source": [
    "CB91_Blue = '#2CBDFE'\n",
    "CB91_Green = '#47DBCD'\n",
    "CB91_Pink = '#F3A0F2'\n",
    "CB91_Purple = '#9D2EC5'\n",
    "CB91_Violet = '#661D98'\n",
    "CB91_Amber = '#F5B14C'\n",
    "plt.gca().spines['top'].set_visible(False)\n",
    "plt.gca().spines['right'].set_visible(False)\n",
    "color_list = [CB91_Blue, CB91_Pink, CB91_Green, CB91_Amber,\n",
    "              CB91_Purple, CB91_Violet]\n",
    "plt.rcParams['axes.prop_cycle'] = plt.cycler(color=color_list)"
   ]
  },
  {
   "cell_type": "code",
   "execution_count": null,
   "metadata": {},
   "outputs": [],
   "source": [
    "sns.set(font='Franklin Gothic Book',\n",
    "        rc={\n",
    " 'axes.axisbelow': False,\n",
    " 'axes.edgecolor': 'lightgrey',\n",
    " 'axes.facecolor': 'None',\n",
    " 'axes.grid': False,\n",
    " 'axes.labelcolor': 'dimgrey',\n",
    " 'axes.spines.right': False,\n",
    " 'axes.spines.top': False,\n",
    " 'figure.facecolor': 'white',\n",
    " 'lines.solid_capstyle': 'round',\n",
    " 'patch.edgecolor': 'w',\n",
    " 'patch.force_edgecolor': True,\n",
    " 'text.color': 'dimgrey',\n",
    " 'xtick.bottom': False,\n",
    " 'xtick.color': 'dimgrey',\n",
    " 'xtick.direction': 'out',\n",
    " 'xtick.top': False,\n",
    " 'ytick.color': 'dimgrey',\n",
    " 'ytick.direction': 'out',\n",
    " 'ytick.left': False,\n",
    " 'ytick.right': False})\n",
    "sns.set_context(\"notebook\", rc={\"font.size\":16,\n",
    "                                \"axes.titlesize\":20,\n",
    "                                \"axes.labelsize\":18})"
   ]
  },
  {
   "cell_type": "code",
   "execution_count": null,
   "metadata": {},
   "outputs": [],
   "source": [
    "csv_data = 'https://raw.githubusercontent.com/owid/covid-19-data/master/public/data/owid-covid-data.csv'\n",
    "df = pd.read_csv(csv_data, usecols= [\"location\", \"date\", \"new_cases\", \"new_tests\", \"new_deaths\", 'new_vaccinations'])\n",
    "df['date'] = pd.to_datetime(df.date)\n",
    "df.dropna(inplace=True)\n",
    "df.head()\n",
    "df.isna()"
   ]
  },
  {
   "cell_type": "code",
   "execution_count": null,
   "metadata": {},
   "outputs": [],
   "source": [
    "data_ind = df[df[\"location\"] == \"India\"] #India\n",
    "data_ind_features = data_ind.drop(['location', 'date', 'new_cases'], axis = 1)\n",
    "data_ind_target = data_ind['new_cases'].copy()\n",
    "\n",
    "data_usa = df[df['location'] == 'United States'] #United States\n",
    "data_usa_features = data_usa.drop(['location', 'date', 'new_cases'], axis = 1)\n",
    "data_usa_target = data_usa['new_cases'].copy()\n",
    "\n",
    "data_uk = df[df['location'] == 'United Kingdom'] #United Kingdom\n",
    "data_uk_features = data_uk.drop(['location', 'date', 'new_cases'], axis = 1)\n",
    "data_uk_target = data_uk['new_cases'].copy()\n",
    "\n",
    "data_russia = df[df['location'] == 'Russia'] #Russia\n",
    "data_russia_features = data_russia.drop(['location', 'date', 'new_cases'], axis = 1)\n",
    "data_russia_target = data_russia['new_cases'].copy()\n",
    "\n",
    "data_israel = df[df['location'] == 'Israel'] #Israel\n",
    "data_israel_features = data_israel.drop(['location', 'date', 'new_cases'], axis = 1)\n",
    "data_israel_target = data_israel['new_cases'].copy()"
   ]
  },
  {
   "cell_type": "code",
   "execution_count": null,
   "metadata": {},
   "outputs": [],
   "source": [
    "scaler = StandardScaler()\n",
    "data_ind_features_sc = scaler.fit_transform(data_ind_features)\n",
    "data_usa_features_sc = scaler.fit_transform(data_usa_features)\n",
    "data_uk_features_sc = scaler.fit_transform(data_uk_features)\n",
    "data_russia_features_sc = scaler.fit_transform(data_russia_features)\n",
    "data_israel_features_sc = scaler.fit_transform(data_israel_features)"
   ]
  },
  {
   "cell_type": "code",
   "execution_count": null,
   "metadata": {},
   "outputs": [],
   "source": [
    "train_india_x, test_india_x, train_india_y, test_india_y  = train_test_split(data_ind_features_sc, data_ind_target, test_size = 0.2)\n",
    "train_usa_x, test_usa_x , train_usa_y, test_usa_y = train_test_split(data_usa_features_sc, data_usa_target, test_size = 0.2)\n",
    "train_uk_x, test_uk_x, train_uk_y, test_uk_y = train_test_split(data_uk_features_sc, data_uk_target, test_size = 0.2)\n",
    "train_russia_x, test_russia_x, train_russia_y, test_russia_y = train_test_split(data_russia_features_sc, data_russia_target, test_size = 0.2)\n",
    "train_israel_x, test_israel_x, train_israel_y, test_israel_y = train_test_split(data_israel_features_sc, data_israel_target, test_size = 0.2)"
   ]
  },
  {
   "cell_type": "code",
   "execution_count": null,
   "metadata": {},
   "outputs": [],
   "source": [
    "india_lreg = LinearRegression()\n",
    "usa_lreg = LinearRegression()\n",
    "russia_lreg = LinearRegression()\n",
    "uk_lreg = LinearRegression()\n",
    "israel_lreg = LinearRegression()"
   ]
  },
  {
   "cell_type": "code",
   "execution_count": null,
   "metadata": {},
   "outputs": [],
   "source": [
    "india_lreg.fit(train_india_x, train_india_y)\n",
    "usa_lreg.fit(train_usa_x, train_usa_y)\n",
    "russia_lreg.fit(train_russia_x, train_russia_y)\n",
    "uk_lreg.fit(train_uk_x, train_uk_y)\n",
    "israel_lreg.fit(train_israel_x, train_israel_y)"
   ]
  },
  {
   "cell_type": "code",
   "execution_count": null,
   "metadata": {},
   "outputs": [],
   "source": [
    "def calcRMSE(model,x,y):\n",
    "    predictions = model.predict(x)\n",
    "    rmse = np.sqrt(mean_squared_error(y,predictions))\n",
    "    return rmse"
   ]
  },
  {
   "cell_type": "code",
   "execution_count": null,
   "metadata": {},
   "outputs": [],
   "source": [
    "rmse_for_lreg =list()\n",
    "\n",
    "india_lreg_rmse = calcRMSE(india_lreg, test_india_x, test_india_y)\n",
    "usa_lreg_rmse = calcRMSE(usa_lreg, test_usa_x, test_usa_y)\n",
    "russia_lreg_rmse = calcRMSE(russia_lreg, test_russia_x, test_russia_y)\n",
    "uk_lreg_rmse = calcRMSE(uk_lreg, test_uk_x, test_uk_y)\n",
    "israel_lreg_rmse = calcRMSE(israel_lreg, test_israel_x, test_israel_y)\n",
    "\n",
    "rmse_for_lreg.extend([india_lreg_rmse, usa_lreg_rmse, russia_lreg_rmse, israel_lreg_rmse])\n",
    "\n",
    "print(rmse_for_lreg)"
   ]
  },
  {
   "cell_type": "code",
   "execution_count": null,
   "metadata": {},
   "outputs": [],
   "source": [
    "india_rfr = RandomForestRegressor()\n",
    "usa_rfr = RandomForestRegressor()\n",
    "uk_rfr = RandomForestRegressor()\n",
    "russia_rfr = RandomForestRegressor()\n",
    "israel_rfr = RandomForestRegressor()"
   ]
  },
  {
   "cell_type": "code",
   "execution_count": null,
   "metadata": {},
   "outputs": [],
   "source": [
    "india_rfr.fit(train_india_x, train_india_y)\n",
    "usa_rfr.fit(train_usa_x, train_usa_y)\n",
    "uk_rfr.fit(train_uk_x, train_uk_y)\n",
    "russia_rfr.fit(train_russia_x, train_russia_y)\n",
    "israel_rfr.fit(train_israel_x, train_israel_y)"
   ]
  },
  {
   "cell_type": "code",
   "execution_count": null,
   "metadata": {},
   "outputs": [],
   "source": [
    "rmse_for_rfr = list()\n",
    "\n",
    "india_rfr_rmse = calcRMSE(india_rfr, test_india_x, test_india_y)\n",
    "usa_rfr_rmse = calcRMSE(usa_rfr, test_usa_x, test_usa_y)\n",
    "uk_rfr_rmse = calcRMSE(uk_rfr, test_uk_x, test_uk_y)\n",
    "russia_rfr_rmse = calcRMSE(russia_rfr, test_russia_x, test_russia_y)\n",
    "israel_rfr_rmse = calcRMSE(israel_rfr, test_israel_x, test_israel_y)\n",
    "\n",
    "rmse_for_rfr.extend([india_rfr_rmse, usa_rfr_rmse, russia_rfr_rmse, israel_rfr_rmse])\n",
    "print(rmse_for_rfr)"
   ]
  },
  {
   "cell_type": "code",
   "execution_count": null,
   "metadata": {},
   "outputs": [],
   "source": [
    "pred_india_lreg = india_lreg.predict(data_ind_features_sc)\n",
    "pred_usa_lreg = usa_lreg.predict(data_usa_features_sc)\n",
    "pred_uk_lreg = uk_lreg.predict(data_uk_features_sc)\n",
    "pred_russia_lreg = russia_lreg.predict(data_russia_features_sc)\n",
    "pred_israel_lreg = israel_lreg.predict(data_israel_features_sc)"
   ]
  },
  {
   "cell_type": "code",
   "execution_count": null,
   "metadata": {},
   "outputs": [],
   "source": [
    "pred_india_rfr = india_rfr.predict(data_ind_features_sc)\n",
    "pred_usa_rfr = usa_rfr.predict(data_usa_features_sc)\n",
    "pred_uk_rfr = uk_rfr.predict(data_uk_features_sc)\n",
    "pred_russia_rfr = russia_rfr.predict(data_russia_features_sc)\n",
    "pred_israel_rfr = israel_rfr.predict(data_israel_features_sc)"
   ]
  },
  {
   "cell_type": "code",
   "execution_count": null,
   "metadata": {},
   "outputs": [],
   "source": [
    "fig=plt.figure(figsize=(12,10))\n",
    "fig, plt.plot(data_ind['date'],data_ind['new_cases'],color = 'red', linewidth = 3)\n",
    "fig, plt.title('India', size = 10)\n",
    "plt.show()\n",
    "fig.savefig('E:/webapp/india_graph/india_graph.png', bbox_inches = \"tight\")\n",
    "\n",
    "fig1=plt.figure(figsize=(12,10))\n",
    "plt.plot(data_usa['date'], data_usa['new_cases'], color = 'blue', linewidth = 3)\n",
    "plt.title('United States of America', size = 10)\n",
    "plt.show()\n",
    "fig1.savefig('E:/webapp/usa_graph/usa_graph.png', bbox_inches = \"tight\")\n",
    "\n",
    "fig2=plt.figure(figsize=(12,10))\n",
    "plt.plot(data_uk['date'], data_uk['new_cases'], color = 'g' , linewidth = 3)\n",
    "plt.title('United Kingdom', size = 10)\n",
    "plt.show()\n",
    "fig2.savefig('E:/webapp/uk_graph/uk_graph.png', bbox_inches = \"tight\")\n",
    "\n",
    "fig3=plt.figure(figsize=(12,10))\n",
    "plt.plot(data_russia['date'], data_russia['new_cases'], color ='orange', linewidth = 3)\n",
    "plt.title('Russia', size = 10)\n",
    "plt.show()\n",
    "fig3.savefig('E:/webapp/russia_graph/russia_graph.png', bbox_inches = \"tight\")\n",
    "\n",
    "fig4=plt.figure(figsize=(12,10))\n",
    "plt.plot(data_israel['date'], data_israel['new_cases'], color = 'cyan', linewidth = 3)\n",
    "plt.title('Israel', size = 10)\n",
    "plt.show()\n",
    "fig4.savefig('E:/webapp/iran_graph/iran_graph.png', bbox_inches = \"tight\")"
   ]
  },
  {
   "cell_type": "code",
   "execution_count": null,
   "metadata": {},
   "outputs": [],
   "source": [
    "fig=plt.figure(figsize=(12,10))\n",
    "plt.plot(data_ind['date'],data_ind['new_cases'])\n",
    "plt.plot(data_ind['date'],pred_india_lreg)\n",
    "plt.legend(['New Cases','New Cases as predicted by Linear Regression'], prop={'size': 12})\n",
    "plt.xlabel('Date')\n",
    "plt.ylabel('New Cases')\n",
    "plt.show()\n",
    "fig.savefig(\"E:/webapp/india_lr_pred/india_lr_pred.png\", bbox_inches = \"tight\")\n",
    "\n",
    "fig1=plt.figure(figsize=(12,10))\n",
    "plt.plot(data_usa['date'],data_usa['new_cases'])\n",
    "plt.plot(data_usa['date'],pred_usa_lreg)\n",
    "plt.legend(['New Cases','New Cases as predicted by Linear Regression'], prop={'size': 12})\n",
    "plt.xlabel('Date')\n",
    "plt.ylabel('New Cases')\n",
    "plt.show()\n",
    "fig1.savefig(\"E:/webapp/usa_lr_pred/usa_lr_pred.png\", bbox_inches = \"tight\")\n",
    "\n",
    "fig2=plt.figure(figsize=(12,10))\n",
    "plt.plot(data_uk['date'],data_uk['new_cases'])\n",
    "plt.plot(data_uk['date'],pred_uk_lreg)\n",
    "plt.legend(['New Cases','New Cases as predicted by Linear Regression'], prop={'size': 12})\n",
    "plt.xlabel('Date')\n",
    "plt.ylabel('New Cases')\n",
    "plt.show()\n",
    "fig2.savefig(\"E:/webapp/uk_lr_pred/uk_lr_pred.png\", bbox_inches = \"tight\")\n",
    "\n",
    "fig3=plt.figure(figsize=(12,10))\n",
    "plt.plot(data_russia['date'],data_russia['new_cases'])\n",
    "plt.plot(data_russia['date'],pred_russia_lreg)\n",
    "plt.legend(['New Cases','New Cases as predicted by Linear Regression'], prop={'size': 12})\n",
    "plt.xlabel('Date')\n",
    "plt.ylabel('New Cases')\n",
    "plt.show()\n",
    "fig3.savefig(\"E:/webapp/russia_lr_pred/russia_lr_pred.png\", bbox_inches = \"tight\")\n",
    "\n",
    "fig4=plt.figure(figsize=(12,10))\n",
    "plt.plot(data_israel['date'],data_israel['new_cases'])\n",
    "plt.plot(data_israel['date'],pred_israel_lreg)\n",
    "plt.legend(['New Cases','New Cases as predicted by Linear Regression'], prop={'size': 12})\n",
    "plt.xlabel('Date')\n",
    "plt.ylabel('New Cases')\n",
    "plt.show()\n",
    "fig4.savefig(\"E:/webapp/iran_lr_pred/iran_lr_pred.png\", bbox_inches = \"tight\")"
   ]
  },
  {
   "cell_type": "code",
   "execution_count": null,
   "metadata": {},
   "outputs": [],
   "source": [
    "fig=plt.figure(figsize=(12,10))\n",
    "plt.plot(data_ind['date'],data_ind['new_cases'])\n",
    "plt.plot(data_ind['date'],pred_india_rfr, linewidth= 1)\n",
    "plt.legend(['New Cases','New Cases as predicted by Random Forest Regressor'], prop={'size': 12})\n",
    "plt.xlabel('Date')\n",
    "plt.ylabel('New Cases')\n",
    "plt.show()\n",
    "fig.savefig(\"E:/webapp/india_rfr_pred/india_rfr_pred.png\", bbox_inches = \"tight\")\n",
    "\n",
    "fig1=plt.figure(figsize=(12,10))\n",
    "plt.plot(data_usa['date'],data_usa['new_cases'])\n",
    "plt.plot(data_usa['date'],pred_usa_rfr, linewidth= 1)\n",
    "plt.legend(['New Cases','New Cases as predicted by Random Forest Regressor'], prop={'size': 12})\n",
    "plt.xlabel('Date')\n",
    "plt.ylabel('New Cases')\n",
    "plt.show()\n",
    "fig1.savefig(\"E:/webapp/usa_rfr_pred/usa_rfr_pred.png\", bbox_inches = \"tight\")\n",
    "\n",
    "fig2=plt.figure(figsize=(12,10))\n",
    "plt.plot(data_uk['date'],data_uk['new_cases'])\n",
    "plt.plot(data_uk['date'],pred_uk_rfr,linewidth= 1)\n",
    "plt.legend(['New Cases','New Cases as predicted by Random Forest Regressor'], prop={'size': 12})\n",
    "plt.xlabel('Date')\n",
    "plt.ylabel('New Cases')\n",
    "plt.show()\n",
    "fig2.savefig(\"E:/webapp/uk_rfr_pred/uk_rfr_pred.png\", bbox_inches = \"tight\")\n",
    "\n",
    "fig3=plt.figure(figsize=(12,10))\n",
    "plt.plot(data_russia['date'],data_russia['new_cases'])\n",
    "plt.plot(data_russia['date'],pred_russia_rfr, linewidth= 1)\n",
    "plt.legend(['New Cases','New Cases as predicted by Random Forest Regressor'], prop={'size': 12})\n",
    "plt.xlabel('Date')\n",
    "plt.ylabel('New Cases')\n",
    "plt.show()\n",
    "fig3.savefig(\"E:/webapp/russia_rfr_pred/russia_rfr_pred.png\", bbox_inches = \"tight\")\n",
    "\n",
    "fig4=plt.figure(figsize=(12,10))\n",
    "plt.plot(data_israel['date'],data_israel['new_cases'])\n",
    "plt.plot(data_israel['date'],pred_israel_rfr, linewidth= 1)\n",
    "plt.legend(['New Cases','New Cases as predicted by Random Forest Regressor'], prop={'size': 12})\n",
    "plt.xlabel('Date')\n",
    "plt.ylabel('New Cases')\n",
    "plt.show()\n",
    "fig4.savefig(\"E:/webapp/iran_rfr_pred/iran_rfr_pred.png\", bbox_inches = \"tight\")"
   ]
  },
  {
   "cell_type": "code",
   "execution_count": null,
   "metadata": {},
   "outputs": [],
   "source": [
    "#ADD YTICK\n",
    "fig = plt.figure()\n",
    "ax = fig.add_axes([0,0,1,1])\n",
    "ax.bar(countries1 , rmse_for_lreg, color = 'b', width = 0.25, align='edge' )\n",
    "\n",
    "ax.bar(countries1 , rmse_for_rfr, color = 'g', width = -0.25, align='edge')\n",
    "plt.legend(['Linear Regression','Random Forest Regressor'], prop={'size': 15})\n",
    "plt.xlabel('Countries')\n",
    "plt.ylabel('Root Mean Squared Error')\n",
    "plt.title(\"RMSE Scores for Linear Regression and Random Forest Regressor Models\")\n",
    "fig.savefig('E:/webapp/rmse_for_lreg/rmse_for_lreg.png', bbox_inches = \"tight\")"
   ]
  },
  {
   "cell_type": "code",
   "execution_count": null,
   "metadata": {},
   "outputs": [],
   "source": [
    "csv_data = 'https://raw.githubusercontent.com/owid/covid-19-data/master/public/data/owid-covid-data.csv'\n",
    "dataframe = pd.read_csv(csv_data, usecols= [\"location\", \"date\", \"new_cases\"])\n",
    "dataframe['date'] = pd.to_datetime(dataframe.date)\n",
    "dataframe.dropna(inplace=True)\n",
    "dataframe.tail()"
   ]
  },
  {
   "cell_type": "code",
   "execution_count": null,
   "metadata": {},
   "outputs": [],
   "source": [
    "data_ind_arima = dataframe[dataframe['location'] == 'India']\n",
    "data_usa_arima = dataframe[dataframe['location'] == 'United States']\n",
    "data_uk_arima = dataframe[dataframe['location'] == 'United Kingdom']\n",
    "data_russia_arima = dataframe[dataframe['location'] == 'Russia']\n",
    "data_israel_arima = dataframe[dataframe['location'] == 'Israel']"
   ]
  },
  {
   "source": [
    "# FORECAST AND ACTUAL VALUE GRAPH COMPARISON BEGINS HERE"
   ],
   "cell_type": "markdown",
   "metadata": {}
  },
  {
   "cell_type": "code",
   "execution_count": null,
   "metadata": {},
   "outputs": [],
   "source": [
    "training_data_india = data_ind_arima[:-7]\n",
    "\n",
    "training_data_usa = data_usa_arima[:-7]\n",
    "training_data_uk = data_uk_arima[:-7]\n",
    "training_data_russia = data_russia_arima[:-7]\n",
    "training_data_israel = data_israel_arima[:-7]\n",
    "training_data_india.tail()"
   ]
  },
  {
   "cell_type": "code",
   "execution_count": null,
   "metadata": {},
   "outputs": [],
   "source": [
    "india_arima = ARIMA(training_data_india['new_cases'], order = (5,2,5))\n",
    "india_arima_fit = india_arima.fit()"
   ]
  },
  {
   "cell_type": "code",
   "execution_count": null,
   "metadata": {},
   "outputs": [],
   "source": [
    "usa_arima = ARIMA(training_data_usa['new_cases'], order = (5,1,4))\n",
    "usa_arima_fit = usa_arima.fit()"
   ]
  },
  {
   "cell_type": "code",
   "execution_count": null,
   "metadata": {},
   "outputs": [],
   "source": [
    "uk_arima = ARIMA(training_data_uk['new_cases'], order = (5,2,3))\n",
    "uk_arima_fit = uk_arima.fit()"
   ]
  },
  {
   "cell_type": "code",
   "execution_count": null,
   "metadata": {},
   "outputs": [],
   "source": [
    "russia_arima = ARIMA(training_data_russia['new_cases'], order = (5,2,5))\n",
    "russia_arima_fit = russia_arima.fit()"
   ]
  },
  {
   "cell_type": "code",
   "execution_count": null,
   "metadata": {},
   "outputs": [],
   "source": [
    "israel_arima = ARIMA(training_data_israel['new_cases'], order = (5,2,2))\n",
    "israel_arima_fit = israel_arima.fit()"
   ]
  },
  {
   "cell_type": "code",
   "execution_count": null,
   "metadata": {},
   "outputs": [],
   "source": [
    "india_forecasts = india_arima_fit.forecast(steps = 8)\n",
    "\n",
    "usa_forecasts = usa_arima_fit.forecast(steps = 8)\n",
    "\n",
    "uk_forecasts = uk_arima_fit.forecast(steps = 8)\n",
    "\n",
    "russia_forecasts = russia_arima_fit.forecast(steps = 8)\n",
    "\n",
    "\n",
    "israel_forecasts = israel_arima_fit.forecast(steps = 8)"
   ]
  },
  {
   "cell_type": "code",
   "execution_count": null,
   "metadata": {},
   "outputs": [],
   "source": [
    "dates = list()\n",
    "for i in range(1,9):\n",
    "    date = date.today()\n",
    "    increment = timedelta(days = i)\n",
    "    date = date - increment\n",
    "    dates.append(date)\n",
    "\n",
    "\n",
    "dates.reverse()\n"
   ]
  },
  {
   "cell_type": "code",
   "execution_count": null,
   "metadata": {},
   "outputs": [],
   "source": [
    "data_ind_check = data_ind_arima.tail(7)\n",
    "data_usa_check = data_usa_arima.tail(7)\n",
    "data_uk_check = data_uk_arima.tail(7)\n",
    "data_russia_check = data_russia_arima.tail(7)\n",
    "data_israel_check = data_israel_arima.tail(7)"
   ]
  },
  {
   "cell_type": "code",
   "execution_count": null,
   "metadata": {},
   "outputs": [],
   "source": [
    "fig=plt.figure(figsize=(12,10))\n",
    "plt.plot(data_ind_check['date'], data_ind_check['new_cases'])\n",
    "plt.plot(dates, india_forecasts)\n",
    "plt.legend(['New Cases','New Cases as predicted by ARIMA'], prop={'size': 12})\n",
    "plt.xlabel('Date')\n",
    "plt.ylabel('New Cases')\n",
    "plt.grid()\n",
    "plt.show()\n",
    "\n",
    "fig=plt.figure(figsize=(12,10))\n",
    "plt.plot(data_usa_check['date'], data_usa_check['new_cases'])\n",
    "plt.plot(dates, usa_forecasts)\n",
    "plt.legend(['New Cases','New Cases as predicted by ARIMA'], prop={'size': 12})\n",
    "plt.xlabel('Date')\n",
    "plt.ylabel('New Cases')\n",
    "plt.grid()\n",
    "plt.show()\n",
    "\n",
    "fig=plt.figure(figsize=(12,10))\n",
    "plt.plot(data_uk_check['date'], data_uk_check['new_cases'])\n",
    "plt.plot(dates, uk_forecasts)\n",
    "plt.legend(['New Cases','New Cases as predicted by ARIMA'], prop={'size': 12})\n",
    "plt.xlabel('Date')\n",
    "plt.ylabel('New Cases')\n",
    "plt.grid()\n",
    "plt.show()\n",
    "\n",
    "fig=plt.figure(figsize=(12,10))\n",
    "plt.plot(data_russia_check['date'], data_russia_check['new_cases'])\n",
    "plt.plot(dates, russia_forecasts)\n",
    "plt.legend(['New Cases','New Cases as predicted by ARIMA'], prop={'size': 12})\n",
    "plt.xlabel('Date')\n",
    "plt.ylabel('New Cases')\n",
    "plt.grid()\n",
    "plt.show()\n",
    "\n",
    "fig=plt.figure(figsize=(12,10))\n",
    "plt.plot(data_israel_check['date'], data_israel_check['new_cases'])\n",
    "plt.plot(dates, israel_forecasts)\n",
    "plt.legend(['New Cases','New Cases as predicted by ARIMA'], prop={'size': 12})\n",
    "plt.xlabel('Date')\n",
    "plt.ylabel('New Cases')\n",
    "plt.grid()\n",
    "plt.show()\n"
   ]
  },
  {
   "cell_type": "code",
   "execution_count": null,
   "metadata": {},
   "outputs": [],
   "source": [
    "india_param = (5,2,5)\n",
    "usa_param = (5,1,4)\n",
    "uk_param = (5,2,3)\n",
    "russia_param = (5,2,5)\n",
    "israel_param = (5,2,2)"
   ]
  },
  {
   "cell_type": "code",
   "execution_count": null,
   "metadata": {},
   "outputs": [],
   "source": [
    "def evaluateModel(data, param):\n",
    "    X = data['new_cases'].values\n",
    "    size = int(len(X) * 0.70)\n",
    "    train, test = X[0:size], X[size:len(X)]\n",
    "    history = [x for x in train]\n",
    "    predictions = list()\n",
    "    # walk-forward validation\n",
    "    for t in range(len(test)):\n",
    "        model = ARIMA(history, order=param, initialization='approximate_diffuse')\n",
    "        model_fit = model.fit()\n",
    "        output = model_fit.forecast()\n",
    "        yhat = output[0]\n",
    "        predictions.append(yhat)\n",
    "        obs = test[t]\n",
    "        history.append(obs)\n",
    "        print('predicted=%f, expected=%f' % (yhat, obs))\n",
    "    rmse = np.sqrt(mean_squared_error(test, predictions))\n",
    "    return rmse"
   ]
  },
  {
   "cell_type": "code",
   "execution_count": null,
   "metadata": {},
   "outputs": [],
   "source": [
    "india_arima_rmse = evaluateModel(data_ind_arima, india_param) \n",
    "print(india_arima_rmse)"
   ]
  },
  {
   "cell_type": "code",
   "execution_count": null,
   "metadata": {},
   "outputs": [],
   "source": [
    "usa_arima_rmse = evaluateModel(data_usa_arima, usa_param)\n",
    "print(usa_arima_rmse)"
   ]
  },
  {
   "cell_type": "code",
   "execution_count": null,
   "metadata": {},
   "outputs": [],
   "source": [
    "uk_arima_rmse = evaluateModel(data_uk_arima, uk_param)\n",
    "print(uk_arima_rmse)"
   ]
  },
  {
   "cell_type": "code",
   "execution_count": null,
   "metadata": {},
   "outputs": [],
   "source": [
    "russia_arima_rmse = evaluateModel(data_russia_arima, russia_param)\n",
    "print(russia_arima_rmse)"
   ]
  },
  {
   "cell_type": "code",
   "execution_count": null,
   "metadata": {},
   "outputs": [],
   "source": [
    "israel_arima_rmse = evaluateModel(data_israel_arima, israel_param)\n",
    "print(israel_arima_rmse)"
   ]
  },
  {
   "cell_type": "code",
   "execution_count": null,
   "metadata": {},
   "outputs": [],
   "source": [
    "rmse_for_arima = list()\n",
    "rmse_for_arima.extend([india_arima_rmse, usa_arima_rmse, russia_arima_rmse, israel_arima_rmse])"
   ]
  },
  {
   "cell_type": "code",
   "execution_count": null,
   "metadata": {},
   "outputs": [],
   "source": [
    "fig = plt.figure()\n",
    "ax = fig.add_axes([0,0,1,1])\n",
    "ax.bar(countries1 , rmse_for_lreg, color = 'b', width = 0.25, align='edge' )\n",
    "\n",
    "ax.bar(countries1 , rmse_for_rfr, color = 'g', width = -0.25, align='edge')\n",
    "plt.legend(['Linear Regression','Random Forest Regressor'], prop={'size': 15})\n",
    "plt.xlabel('Countries')\n",
    "plt.ylabel('Root Mean Squared Error')\n",
    "plt.title(\"RMSE Scores for Linear Regression and Random Forest Regressor Models\")\n",
    "fig.savefig('E:/webapp/rmse_for_rfr/rmse_for_rfr.png', bbox_inches = \"tight\")"
   ]
  },
  {
   "cell_type": "code",
   "execution_count": null,
   "metadata": {},
   "outputs": [],
   "source": [
    "fig = plt.figure()\n",
    "ax = fig.add_axes([0,0,1,1])\n",
    "ax.bar(countries1 , rmse_for_rfr, color = 'b', width = 0.25, align='edge' )\n",
    "\n",
    "ax.bar(countries1 , rmse_for_arima, color = 'g', width = -0.25, align='edge')\n",
    "plt.legend(['Random Forest Regressor', 'ARIMA Model'], prop={'size': 15})\n",
    "plt.xlabel('Countries')\n",
    "plt.ylabel('Root Mean Squared Error')\n",
    "plt.title(\"RMSE Scores for Random Forest Regressor and ARIMA Models\")\n",
    "fig.savefig('E:/webapp/rmse_lreg_rfr/rmse_lreg_rfr.png', bbox_inches = \"tight\")"
   ]
  },
  {
   "source": [
    "# END; NOW ACTUAL FORECASTING BEGINS"
   ],
   "cell_type": "markdown",
   "metadata": {}
  },
  {
   "cell_type": "code",
   "execution_count": null,
   "metadata": {},
   "outputs": [],
   "source": [
    "india_arima = ARIMA(data_ind_arima['new_cases'], order = (5,2,5))\n",
    "india_arima_fit = india_arima.fit()"
   ]
  },
  {
   "cell_type": "code",
   "execution_count": null,
   "metadata": {},
   "outputs": [],
   "source": [
    "usa_arima = ARIMA(data_usa_arima['new_cases'], order = (5,1,4))\n",
    "usa_arima_fit = usa_arima.fit()"
   ]
  },
  {
   "cell_type": "code",
   "execution_count": null,
   "metadata": {},
   "outputs": [],
   "source": [
    "uk_arima = ARIMA(data_uk_arima['new_cases'], order = (5,2,3))\n",
    "uk_arima_fit = uk_arima.fit()"
   ]
  },
  {
   "cell_type": "code",
   "execution_count": null,
   "metadata": {},
   "outputs": [],
   "source": [
    "russia_arima = ARIMA(data_russia_arima['new_cases'], order = (5,2,5))\n",
    "russia_arima_fit = russia_arima.fit()"
   ]
  },
  {
   "cell_type": "code",
   "execution_count": null,
   "metadata": {},
   "outputs": [],
   "source": [
    "israel_arima = ARIMA(data_israel_arima['new_cases'], order = (5,2,2))\n",
    "israel_arima_fit = israel_arima.fit()"
   ]
  },
  {
   "cell_type": "code",
   "execution_count": null,
   "metadata": {},
   "outputs": [],
   "source": [
    "india_forecasts = india_arima_fit.forecast(steps = 7)\n",
    "\n",
    "usa_forecasts = usa_arima_fit.forecast(steps = 7)\n",
    "uk_forecasts = uk_arima_fit.forecast(steps = 7)\n",
    "russia_forecasts = russia_arima_fit.forecast(steps = 7)\n",
    "israel_forecasts = israel_arima_fit.forecast(steps = 7)"
   ]
  },
  {
   "cell_type": "code",
   "execution_count": null,
   "metadata": {},
   "outputs": [],
   "source": [
    "dates = list()\n",
    "for i in range(7):\n",
    "    date = date.today()\n",
    "    increment = timedelta(days = i)\n",
    "    date = date + increment\n",
    "    dates.append(date)\n",
    "    \n",
    "    \n",
    "print(dates)"
   ]
  },
  {
   "cell_type": "code",
   "execution_count": null,
   "metadata": {},
   "outputs": [],
   "source": [
    "forecastdict = {'Date': dates, 'India': india_forecasts}\n",
    "forecastdata = pd.DataFrame(forecastdict, columns = ['Date', 'India'])\n",
    "\n",
    "print(forecastdata)"
   ]
  },
  {
   "cell_type": "code",
   "execution_count": null,
   "metadata": {},
   "outputs": [],
   "source": [
    "fig=plt.figure(figsize=(12,10))\n",
    "plt.plot(dates, india_forecasts)\n",
    "plt.grid()\n",
    "plt.yticks(india_forecasts)\n",
    "plt.show()\n",
    "fig.savefig('E:/webapp/india_forecast/india_forecast.png', bbox_inches = \"tight\")\n",
    "\n",
    "fig1=plt.figure(figsize=(12,10))\n",
    "plt.plot(dates, usa_forecasts)\n",
    "plt.grid()\n",
    "plt.yticks(usa_forecasts)\n",
    "plt.show()\n",
    "fig1.savefig('E:/webapp/usa_forecast/usa_forecast.png', bbox_inches = \"tight\")\n",
    "\n",
    "fig2=plt.figure(figsize=(12,10))\n",
    "plt.plot(dates, uk_forecasts)\n",
    "plt.grid()\n",
    "plt.yticks(uk_forecasts)\n",
    "plt.show()\n",
    "fig2.savefig('E:/webapp/uk_forecast/uk_forecast.png', bbox_inches = \"tight\")\n",
    "\n",
    "fig3=plt.figure(figsize=(12,10))\n",
    "plt.plot(dates, russia_forecasts)\n",
    "plt.grid()\n",
    "plt.yticks(russia_forecasts)\n",
    "plt.show()\n",
    "fig3.savefig('E:/webapp/russia_forecast/russia_forecast.png', bbox_inches = \"tight\")\n",
    "\n",
    "fig4=plt.figure(figsize=(12,10))\n",
    "plt.plot(dates, israel_forecasts)\n",
    "plt.grid()\n",
    "plt.yticks(israel_forecasts)\n",
    "plt.show()\n",
    "fig4.savefig('E:/webapp/iran_forecast/iran_forecast.png', bbox_inches = \"tight\")"
   ]
  },
  {
   "cell_type": "code",
   "execution_count": null,
   "metadata": {},
   "outputs": [],
   "source": []
  }
 ]
}